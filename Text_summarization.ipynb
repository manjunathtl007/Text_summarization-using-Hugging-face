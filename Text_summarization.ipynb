{
 "cells": [
  {
   "cell_type": "code",
   "execution_count": 3,
   "id": "5e4678b7",
   "metadata": {},
   "outputs": [
    {
     "name": "stderr",
     "output_type": "stream",
     "text": [
      "C:\\Python311\\Lib\\site-packages\\tqdm\\auto.py:21: TqdmWarning: IProgress not found. Please update jupyter and ipywidgets. See https://ipywidgets.readthedocs.io/en/stable/user_install.html\n",
      "  from .autonotebook import tqdm as notebook_tqdm\n"
     ]
    },
    {
     "name": "stdout",
     "output_type": "stream",
     "text": [
      "WARNING:tensorflow:From C:\\Python311\\Lib\\site-packages\\keras\\src\\losses.py:2976: The name tf.losses.sparse_softmax_cross_entropy is deprecated. Please use tf.compat.v1.losses.sparse_softmax_cross_entropy instead.\n",
      "\n"
     ]
    }
   ],
   "source": [
    "# Use a pipeline as a high-level helper\n",
    "from transformers import pipeline\n",
    "\n",
    "pipe = pipeline(\"summarization\", model=\"facebook/bart-large-cnn\")"
   ]
  },
  {
   "cell_type": "code",
   "execution_count": 4,
   "id": "ddfa19a0",
   "metadata": {},
   "outputs": [],
   "source": [
    "text =\"\"\"\n",
    "Operation Babylift involved the large-scale evacuation of orphaned children from Vietnam to countries like the United States, France, Austria, and West Germany during the concluding days of the Vietnam War. From April 3-26, 1975, around 3,300 children were transported out of Vietnam.\n",
    "\n",
    "On April 4, 1975, a C-5 cargo plane departed from Tan Son Nhut Airport at 4pm, carrying 250 orphans and 78 crew members. Only 12 minutes into the flight, an explosion rocked the lower rear fuselage, leading to a rapid decompression.\n",
    "\n",
    "The crew tried to circle back for an emergency landing, but the plane tragically crashed in a nearby rice field, skidding for a quarter mile and breaking into four sections. Out of the 328 on board, 175 managed to survive.\n",
    "\n",
    "Flight nurse and first lieutenant Regina Aune recalled, \"I will never forget that day. It's as fresh to me right now as it was the day it happened. We put them in little groups and we secured them to the floor of the aircraft, with cargo tie-down straps and litter straps and blankets and pillows and whatever we could to kind of secure them to the floor.\n",
    "\n",
    "I remember thinking, this plane is crashing, and I am going to live through it, and I have to figure out how to take care of everybody once we finally come to a complete stop.\"\n",
    "\n",
    "True to her word, Aune waded through the mud after the crash to search for the children and other survivors.\n",
    "\n",
    "After assisting 149 children to safety, she told the rescue team, \"Sir, I request to be relieved of my duties since my injuries prevent me from carrying on.\" Soon after, she lost consciousness. She was later treated at a Saigon hospital, discovering she had numerous cuts, a broken foot, a fractured leg, and a spinal injury.\n",
    "\"\"\""
   ]
  },
  {
   "cell_type": "code",
   "execution_count": 7,
   "id": "70c2fa7e",
   "metadata": {},
   "outputs": [],
   "source": [
    "result = pipe(text)"
   ]
  },
  {
   "cell_type": "code",
   "execution_count": 8,
   "id": "735e499b",
   "metadata": {},
   "outputs": [
    {
     "data": {
      "text/plain": [
       "'Operation Babylift involved the large-scale evacuation of orphaned children from Vietnam to countries like the United States, France, Austria, and West Germany. From April 3-26, 1975, around 3,300 children were transported out of Vietnam. Out of the 328 on board, 175 managed to survive.'"
      ]
     },
     "execution_count": 8,
     "metadata": {},
     "output_type": "execute_result"
    }
   ],
   "source": [
    "result[0]['summary_text']"
   ]
  },
  {
   "cell_type": "code",
   "execution_count": null,
   "id": "16275ac6",
   "metadata": {},
   "outputs": [],
   "source": []
  }
 ],
 "metadata": {
  "kernelspec": {
   "display_name": "Python 3 (ipykernel)",
   "language": "python",
   "name": "python3"
  },
  "language_info": {
   "codemirror_mode": {
    "name": "ipython",
    "version": 3
   },
   "file_extension": ".py",
   "mimetype": "text/x-python",
   "name": "python",
   "nbconvert_exporter": "python",
   "pygments_lexer": "ipython3",
   "version": "3.11.4"
  }
 },
 "nbformat": 4,
 "nbformat_minor": 5
}
